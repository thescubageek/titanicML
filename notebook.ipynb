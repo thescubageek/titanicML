{
 "cells": [
  {
   "cell_type": "code",
   "execution_count": null,
   "metadata": {
    "_cell_guid": "5db4658f-a4a7-465f-aafc-67e810f1ce75",
    "collapsed": true,
    "_uuid": "b0c482576e6bdb20cf939be7da39b0b4b2e0fbb5",
    "trusted": true
   },
   "outputs": [],
   "source": [
    "from subprocess import check_output\n",
    "from speedml import Speedml\n",
    "import warnings\n",
    "warnings.filterwarnings('ignore')\n",
    "\n",
    "class TitanicML:\n",
    "    def __init__(self):\n",
    "        self.sml = None\n",
    "\n",
    "    def run(self):\n",
    "        print(\"running\")\n",
    "        self.data()\n",
    "        self.models()\n",
    "        self.results()\n",
    "\n",
    "    def data(self):\n",
    "        print(\"preparing data\")\n",
    "        self.setup_speedml()\n",
    "        self.prepare_data()\n",
    "\n",
    "    def models(self):\n",
    "        self.prepare_models()\n",
    "        self.evaluate_models()\n",
    "        self.predict_models()\n",
    "\n",
    "    def results(self):\n",
    "        self.save_results()\n",
    "        self.write_results()\n",
    "\n",
    "    def prepare_data(self):\n",
    "        self.strip_outliers()\n",
    "        self.create_family_size()\n",
    "        self.create_title()\n",
    "        self.create_deck()\n",
    "        self.map_sex()\n",
    "        self.map_embarked()\n",
    "        self.impute_values()\n",
    "        self.create_ticket_density()\n",
    "        self.create_age_density()\n",
    "        self.create_fare_density()\n",
    "        print(\"data prepared\")\n",
    "\n",
    "    def setup_speedml(self):\n",
    "        print(\"Setting up Speedml\")\n",
    "        self.sml = Speedml('../input/train.csv', '../input/test.csv', target='Survived', uid='PassengerId')\n",
    "\n",
    "    def strip_outliers(self):\n",
    "        print(\"Stripping Outliers\")\n",
    "        self.sml.feature.outliers('Fare', upper=99)\n",
    "        self.sml.feature.outliers('SibSp', upper=99)\n",
    "\n",
    "    def create_family_size(self):\n",
    "        print(\"Merge Parch and SibSp into FamilySize\")\n",
    "        self.sml.feature.sum(new='FamilySize', a='Parch', b='SibSp')\n",
    "        self.sml.feature.add('FamilySize', 1)\n",
    "        self.sml.feature.drop('Parch')\n",
    "        self.sml.feature.drop('SibSp')\n",
    "\n",
    "    def create_title(self):\n",
    "        print(\"extract Title from Name\")\n",
    "        self.sml.feature.extract(new='Title', a='Name', regex=r\" ([A-Za-z]+)\\.\")\n",
    "        self.sml.feature.replace(a='Title', match=['Lady', 'Countess', 'Dona', 'Mme'], new='Mrs')\n",
    "        self.sml.feature.replace(a='Title', match=['Don', 'Sir', 'Jonkheer'], new='Mr')\n",
    "        self.sml.feature.replace(a='Title', match=['Capt', 'Col', 'Dr', 'Major', 'Rev'], new='Crew')\n",
    "        self.sml.feature.replace(a='Title', match=['Mlle','Ms'], new='Miss')\n",
    "        self.sml.feature.mapping('Title', {'Miss': 1, 'Master': 2, 'Mrs': 3, 'Mr': 4, 'Crew': 5})\n",
    "        self.sml.feature.fillna(a='Title', new=0)\n",
    "        self.sml.feature.drop('Name')\n",
    "\n",
    "    def map_sex(self):\n",
    "        print(\"map sex\")\n",
    "        self.sml.feature.mapping('Sex', {'male': 0, 'female': 1})\n",
    "\n",
    "    def create_deck(self):\n",
    "        print(\"create deck and drop cabin\")\n",
    "        self.sml.feature.fillna(a='Cabin', new='Z')\n",
    "        ## TODO: ^^ let's be smarter about this\n",
    "        self.sml.feature.extract(new='Deck', a='Cabin', regex='([A-Z]){1}')\n",
    "        self.sml.feature.labels(['Deck'])\n",
    "        self.sml.feature.drop(['Cabin'])\n",
    "\n",
    "    def map_embarked(self):\n",
    "        print(\"map embarked\")\n",
    "        self.sml.feature.fillna(a='Embarked', new='Z')\n",
    "        self.sml.feature.mapping('Embarked', {'S': 0, 'C': 1, 'Q': 2, 'Z': 3})\n",
    "\n",
    "    def impute_values(self):\n",
    "        print(\"IMPUTE BUT ONLY FOR NOW\")\n",
    "        self.sml.feature.impute()\n",
    "\n",
    "    def create_ticket_density(self):\n",
    "        print(\"drop ticket FOR NOW\")\n",
    "        #self.sml.feature.density('Ticket')\n",
    "        self.sml.feature.drop('Ticket')\n",
    "        ## TODO: ^^ let's figure out Deck using this and PClass\n",
    "\n",
    "    def create_fare_density(self):\n",
    "        print(\"FOR NOW add Fare densities\")\n",
    "        #self.sml.feature.density(['Fare'])\n",
    "\n",
    "    def create_age_density(self):\n",
    "        print(\"FOR NOW add Age densities\")\n",
    "        #self.sml.feature.density(['Age'])\n",
    "\n",
    "    def prepare_models(self):\n",
    "        print(\"prepare models\")\n",
    "        self.sml.model.data()\n",
    "        self.set_model_parameters()\n",
    "\n",
    "    def set_model_parameters(self):\n",
    "        print(\"set model parameters\")\n",
    "        ret1 = self.refine_max_depth_and_min_child_weight()\n",
    "        ret2 = self.refine_learning_rate_and_subsample(ret1)\n",
    "        self.assign_tuned_variables(ret1, ret2)\n",
    "\n",
    "    def refine_max_depth_and_min_child_weight(self):\n",
    "        print(\"refine max depth and min child weight\")\n",
    "        select_params = {'max_depth': [3,5,7], 'min_child_weight': [1,3,5]}\n",
    "        fixed_params = {'learning_rate': 0.1, 'subsample': 0.8,\n",
    "                        'colsample_bytree': 0.8, 'seed':0,\n",
    "                        'objective': 'binary:logistic'}\n",
    "        ret = self.sml.xgb.hyper(select_params, fixed_params)\n",
    "        return ret['params'][0]\n",
    "\n",
    "\n",
    "    def refine_learning_rate_and_subsample(self, results):\n",
    "        print(\"refine learning rate and subsamples with max_depth\")\n",
    "        select_params = {'learning_rate': [0.3, 0.1, 0.01], 'subsample': [0.7, 0.8, 0.9]}\n",
    "        fixed_params = {'max_depth': results['max_depth'], 'min_child_weight': results['min_child_weight'],\n",
    "                        'colsample_bytree': 0.8, 'seed': 0,\n",
    "                        'objective': 'binary:logistic'}\n",
    "        ret = self.sml.xgb.hyper(select_params, fixed_params)\n",
    "        return ret['params'][0]\n",
    "\n",
    "    def assign_tuned_variables(self, ret1, ret2):\n",
    "        print(\"assign tuned variables\")\n",
    "        print(\"learning_rate: \"+str(ret2['learning_rate']))\n",
    "        print(\"subsample: \"+str(ret2['subsample']))\n",
    "        print(\"max_depth: \"+str(ret1['max_depth']))\n",
    "        print(\"min_child_weight: \"+str(ret1['min_child_weight']))\n",
    "        tuned_params = {'learning_rate': ret2['learning_rate'], 'subsample': ret2['subsample'],\n",
    "                        'max_depth': ret1['max_depth'], 'min_child_weight': ret1['min_child_weight'],\n",
    "                        'seed':0, 'colsample_bytree': 0.8,\n",
    "                        'objective': 'binary:logistic'}\n",
    "        self.sml.xgb.cv(tuned_params)\n",
    "        tuned_params['n_estimators'] = self.sml.xgb.cv_results.shape[0] - 1\n",
    "        self.sml.xgb.params(tuned_params)\n",
    "\n",
    "    def evaluate_models(self):\n",
    "        print(\"Show best models\")\n",
    "        self.sml.xgb.classifier()\n",
    "        self.sml.model.evaluate()\n",
    "        self.sml.plot.model_ranks()\n",
    "        self.sml.model.ranks()\n",
    "\n",
    "    def predict_models(self):\n",
    "        print(\"predict and get accuracy\")\n",
    "        self.sml.xgb.fit()\n",
    "        self.sml.xgb.predict()\n",
    "        self.sml.xgb.feature_selection()\n",
    "        self.sml.xgb.sample_accuracy()\n",
    "\n",
    "    def save_results(self):\n",
    "        print(\"save results when happy\")\n",
    "        self.sml.save_results(\n",
    "            columns={'PassengerId': self.sml.uid,\n",
    "                     'Survived': self.sml.xgb.predictions},\n",
    "            file_path='output/titanic-speedml-{}.csv'.format(self.sml.slug()))\n",
    "        self.sml.slug()\n",
    "\n",
    "    def write_results(self):\n",
    "        print(check_output([\"ls\", \"../input\"]).decode(\"utf8\"))"
   ]
  },
  {
   "cell_type": "code",
   "execution_count": 2,
   "metadata": {
    "_cell_guid": "c1b5718a-6d9d-4702-9d33-093c4c460eee",
    "scrolled": true,
    "_uuid": "abcec10663213ef73e4cee8a63cc775fe4d4449b",
    "trusted": true
   },
   "outputs": [
    {
     "name": "stdout",
     "output_type": "stream",
     "text": [
      "preparing data\nSetting up Speedml\nStripping Outliers\nMerge Parch and SibSp into FamilySize\nextract Title from Name\ncreate deck and drop cabin\nmap sex\nmap embarked\nIMPUTE BUT ONLY FOR NOW\ndrop ticket FOR NOW\nFOR NOW add Age densities\nFOR NOW add Fare densities\ndata prepared\n"
     ]
    }
   ],
   "source": [
    "titanic = TitanicML()\n",
    "titanic.data()"
   ]
  },
  {
   "cell_type": "code",
   "execution_count": null,
   "metadata": {
    "_cell_guid": "62f3c93b-f587-467a-b574-a0d6428500c8",
    "_uuid": "453599896870a7209501ea184721655ceff0d607",
    "trusted": true
   },
   "outputs": [],
   "source": [
    "titanic.sml.eda()\n",
    "titanic.sml.plot.correlate()"
   ]
  },
  {
   "cell_type": "code",
   "execution_count": 3,
   "metadata": {
    "_cell_guid": "718b33b5-20e8-40d8-935d-912afb9f1cb5",
    "scrolled": false,
    "_uuid": "c229b7f31df8b9da8b4ab983829274e04b9d4418",
    "trusted": true
   },
   "outputs": [
    {
     "data": {
      "text/plain": [
       "'train_X: (891, 8) train_y: (891,) test_X: (418, 8)'"
      ]
     },
     "execution_count": 3,
     "metadata": {},
     "output_type": "execute_result"
    },
    {
     "name": "stdout",
     "output_type": "stream",
     "text": [
      "set model parameters\nrefine max depth and min child weight\nrefine learning rate and subsamples with max_depth\nassign tuned variables\nlearning_rate: 0.3\nsubsample: 0.7\nmax_depth: 3\nmin_child_weight: 1\n"
     ]
    }
   ],
   "source": [
    "titanic.sml.model.data()\n",
    "titanic.set_model_parameters()"
   ]
  },
  {
   "cell_type": "code",
   "execution_count": 4,
   "metadata": {
    "_cell_guid": "6e14f5a2-9a9c-4d6e-b961-07c39062ffb3",
    "_uuid": "28239a34391e274fe5afad7d9dfc0355e2a0d588",
    "trusted": true
   },
   "outputs": [
    {
     "name": "stdout",
     "output_type": "stream",
     "text": [
      "Show best models\n"
     ]
    },
    {
     "data": {
      "image/png": "[encoded data removed]",
      "text/plain": [
       "<matplotlib.figure.Figure at 0x7f19ee5b6e10>"
      ]
     },
     "metadata": {},
     "output_type": "display_data"
    }
   ],
   "source": [
    "titanic.evaluate_models()"
   ]
  },
  {
   "cell_type": "code",
   "execution_count": 5,
   "metadata": {
    "trusted": true,
    "_uuid": "fc9ee8260b4cb0a082d2ca44ea1d5ef4c8fb7b02"
   },
   "outputs": [
    {
     "name": "stdout",
     "output_type": "stream",
     "text": [
      "predict and get accuracy\nAccuracy: 78.360000%\nThresh=0.019, n=8, Accuracy: 78.36%\nThresh=0.040, n=7, Accuracy: 78.36%\nThresh=0.077, n=6, Accuracy: 78.36%\nThresh=0.081, n=5, Accuracy: 77.99%\nThresh=0.089, n=4, Accuracy: 70.52%\nThresh=0.098, n=3, Accuracy: 69.78%\nThresh=0.245, n=2, Accuracy: 69.40%\nThresh=0.352, n=1, Accuracy: 69.40%\n"
     ]
    }
   ],
   "source": [
    "titanic.predict_models()"
   ]
  },
  {
   "cell_type": "code",
   "execution_count": null,
   "metadata": {
    "trusted": true,
    "collapsed": true,
    "_uuid": "84f0945f58d958e26073cecd3368392ee34865d7"
   },
   "outputs": [],
   "source": [
    ""
   ]
  }
 ],
 "metadata": {
  "kernelspec": {
   "display_name": "Python 3",
   "language": "python",
   "name": "python3"
  },
  "language_info": {
   "name": "python",
   "version": "3.6.1",
   "mimetype": "text/x-python",
   "codemirror_mode": {
    "name": "ipython",
    "version": 3
   },
   "pygments_lexer": "ipython3",
   "nbconvert_exporter": "python",
   "file_extension": ".py"
  }
 },
 "nbformat": 4,
 "nbformat_minor": 1
}
